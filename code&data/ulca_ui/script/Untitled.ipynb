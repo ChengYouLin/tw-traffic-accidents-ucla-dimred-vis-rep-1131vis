{
 "cells": [
  {
   "cell_type": "code",
   "execution_count": 5,
   "id": "f850d379-de16-475b-ab78-2f69ec63bb8c",
   "metadata": {},
   "outputs": [],
   "source": [
    "#\n",
    "# Usage Exaple in the Jupyter Notebook can be found in case_studies directory\n",
    "#\n",
    "from sklearn import datasets, preprocessing\n",
    "\n",
    "\n",
    "# CSV 파일 경로\n",
    "import pandas as pd\n",
    "from sklearn.utils import Bunch  # 데이터를 묶어주는 Bunch 객체 사용\n",
    "\n",
    "\n",
    "\n",
    "# 1. prepare data\n",
    "dataset = datasets.load_wine()\n",
    "# dataset = datasets.load_iris()\n",
    "X = dataset.data\n",
    "y = dataset.target\n",
    "# feat_names = dataset.feature_names"
   ]
  },
  {
   "cell_type": "code",
   "execution_count": 8,
   "id": "4b6a185f-12e1-48b3-87bf-c463f1f5460c",
   "metadata": {},
   "outputs": [
    {
     "name": "stdout",
     "output_type": "stream",
     "text": [
      "[0 0 0 0 0 0 0 0 0 0 0 0 0 0 0 0 0 0 0 0 0 0 0 0 0 0 0 0 0 0 0 0 0 0 0 0 0\n",
      " 0 0 0 0 0 0 0 0 0 0 0 0 0 0 0 0 0 0 0 0 0 0 1 1 1 1 1 1 1 1 1 1 1 1 1 1 1\n",
      " 1 1 1 1 1 1 1 1 1 1 1 1 1 1 1 1 1 1 1 1 1 1 1 1 1 1 1 1 1 1 1 1 1 1 1 1 1\n",
      " 1 1 1 1 1 1 1 1 1 1 1 1 1 1 1 1 1 1 1 2 2 2 2 2 2 2 2 2 2 2 2 2 2 2 2 2 2\n",
      " 2 2 2 2 2 2 2 2 2 2 2 2 2 2 2 2 2 2 2 2 2 2 2 2 2 2 2 2 2 2]\n"
     ]
    }
   ],
   "source": [
    "print(y);"
   ]
  }
 ],
 "metadata": {
  "kernelspec": {
   "display_name": "Python 3 (ipykernel)",
   "language": "python",
   "name": "python3"
  },
  "language_info": {
   "codemirror_mode": {
    "name": "ipython",
    "version": 3
   },
   "file_extension": ".py",
   "mimetype": "text/x-python",
   "name": "python",
   "nbconvert_exporter": "python",
   "pygments_lexer": "ipython3",
   "version": "3.10.12"
  }
 },
 "nbformat": 4,
 "nbformat_minor": 5
}
